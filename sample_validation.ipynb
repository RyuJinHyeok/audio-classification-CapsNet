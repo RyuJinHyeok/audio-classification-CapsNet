{
 "cells": [
  {
   "cell_type": "code",
   "execution_count": 2,
   "metadata": {},
   "outputs": [],
   "source": [
    "import os\n",
    "import numpy as np\n",
    "import shutil"
   ]
  },
  {
   "cell_type": "code",
   "execution_count": 3,
   "metadata": {},
   "outputs": [],
   "source": [
    "train_path = './train'\n",
    "valid_path = './validation'\n",
    "\n",
    "train_list = os.listdir(train_path)"
   ]
  },
  {
   "cell_type": "code",
   "execution_count": 4,
   "metadata": {},
   "outputs": [],
   "source": [
    "from sklearn.model_selection import train_test_split\n",
    "\n",
    "valid_list = train_test_split(train_list[0:450], test_size=50, random_state=42)[1]\n",
    "\n",
    "for i in range(1, 6):\n",
    "    split = train_test_split(train_list[i * 450:(i + 1) * 450], test_size=50, random_state=42)[1]\n",
    "    valid_list = np.concatenate((valid_list, split))"
   ]
  },
  {
   "cell_type": "code",
   "execution_count": 8,
   "metadata": {},
   "outputs": [],
   "source": [
    "for file in valid_list:\n",
    "    old_path = os.path.join(train_path, file)\n",
    "    new_path = os.path.join(valid_path, file)\n",
    "\n",
    "    shutil.move(old_path, new_path)"
   ]
  }
 ],
 "metadata": {
  "kernelspec": {
   "display_name": "study",
   "language": "python",
   "name": "python3"
  },
  "language_info": {
   "codemirror_mode": {
    "name": "ipython",
    "version": 3
   },
   "file_extension": ".py",
   "mimetype": "text/x-python",
   "name": "python",
   "nbconvert_exporter": "python",
   "pygments_lexer": "ipython3",
   "version": "3.9.16"
  },
  "orig_nbformat": 4
 },
 "nbformat": 4,
 "nbformat_minor": 2
}
